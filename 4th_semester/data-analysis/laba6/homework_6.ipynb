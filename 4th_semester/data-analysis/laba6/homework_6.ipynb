{
 "cells": [
  {
   "cell_type": "markdown",
   "id": "af12b3a1",
   "metadata": {},
   "source": [
    "# 6. Ансамбль моделей"
   ]
  },
  {
   "cell_type": "code",
   "execution_count": null,
   "id": "71783337",
   "metadata": {
    "vscode": {
     "languageId": "plaintext"
    }
   },
   "outputs": [],
   "source": []
  }
 ],
 "metadata": {
  "language_info": {
   "name": "python"
  }
 },
 "nbformat": 4,
 "nbformat_minor": 5
}
